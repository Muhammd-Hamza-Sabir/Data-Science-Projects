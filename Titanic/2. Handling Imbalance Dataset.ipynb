{
 "cells": [
  {
   "cell_type": "markdown",
   "metadata": {},
   "source": [
    "## 1. Modeling"
   ]
  },
  {
   "cell_type": "code",
   "execution_count": 1,
   "metadata": {},
   "outputs": [],
   "source": [
    "import pandas as pd\n",
    "import numpy as np\n",
    "import matplotlib.pyplot as plt\n",
    "%matplotlib inline\n",
    "import seaborn as sns"
   ]
  },
  {
   "cell_type": "code",
   "execution_count": 6,
   "metadata": {},
   "outputs": [],
   "source": [
    "train = pd.read_csv(r'./titanic/train_set.csv')\n",
    "test = pd.read_csv(r'./titanic/test_set.csv')"
   ]
  },
  {
   "cell_type": "code",
   "execution_count": 7,
   "metadata": {},
   "outputs": [
    {
     "data": {
      "text/html": [
       "<div>\n",
       "<style scoped>\n",
       "    .dataframe tbody tr th:only-of-type {\n",
       "        vertical-align: middle;\n",
       "    }\n",
       "\n",
       "    .dataframe tbody tr th {\n",
       "        vertical-align: top;\n",
       "    }\n",
       "\n",
       "    .dataframe thead th {\n",
       "        text-align: right;\n",
       "    }\n",
       "</style>\n",
       "<table border=\"1\" class=\"dataframe\">\n",
       "  <thead>\n",
       "    <tr style=\"text-align: right;\">\n",
       "      <th></th>\n",
       "      <th>Survived</th>\n",
       "      <th>Pclass</th>\n",
       "      <th>Age_Category</th>\n",
       "      <th>Fare_Category</th>\n",
       "      <th>FamilyMembers</th>\n",
       "      <th>female</th>\n",
       "      <th>male</th>\n",
       "      <th>C</th>\n",
       "      <th>Q</th>\n",
       "      <th>S</th>\n",
       "      <th>Master</th>\n",
       "      <th>Miss</th>\n",
       "      <th>Mr</th>\n",
       "      <th>Mrs</th>\n",
       "      <th>Rare</th>\n",
       "    </tr>\n",
       "  </thead>\n",
       "  <tbody>\n",
       "    <tr>\n",
       "      <th>0</th>\n",
       "      <td>0</td>\n",
       "      <td>3</td>\n",
       "      <td>1.0</td>\n",
       "      <td>0</td>\n",
       "      <td>2</td>\n",
       "      <td>0</td>\n",
       "      <td>1</td>\n",
       "      <td>0</td>\n",
       "      <td>0</td>\n",
       "      <td>1</td>\n",
       "      <td>0</td>\n",
       "      <td>0</td>\n",
       "      <td>1</td>\n",
       "      <td>0</td>\n",
       "      <td>0</td>\n",
       "    </tr>\n",
       "    <tr>\n",
       "      <th>1</th>\n",
       "      <td>1</td>\n",
       "      <td>3</td>\n",
       "      <td>1.0</td>\n",
       "      <td>1</td>\n",
       "      <td>1</td>\n",
       "      <td>1</td>\n",
       "      <td>0</td>\n",
       "      <td>0</td>\n",
       "      <td>0</td>\n",
       "      <td>1</td>\n",
       "      <td>0</td>\n",
       "      <td>1</td>\n",
       "      <td>0</td>\n",
       "      <td>0</td>\n",
       "      <td>0</td>\n",
       "    </tr>\n",
       "    <tr>\n",
       "      <th>2</th>\n",
       "      <td>1</td>\n",
       "      <td>1</td>\n",
       "      <td>2.0</td>\n",
       "      <td>4</td>\n",
       "      <td>2</td>\n",
       "      <td>1</td>\n",
       "      <td>0</td>\n",
       "      <td>0</td>\n",
       "      <td>0</td>\n",
       "      <td>1</td>\n",
       "      <td>0</td>\n",
       "      <td>0</td>\n",
       "      <td>0</td>\n",
       "      <td>1</td>\n",
       "      <td>0</td>\n",
       "    </tr>\n",
       "    <tr>\n",
       "      <th>3</th>\n",
       "      <td>0</td>\n",
       "      <td>3</td>\n",
       "      <td>2.0</td>\n",
       "      <td>1</td>\n",
       "      <td>1</td>\n",
       "      <td>0</td>\n",
       "      <td>1</td>\n",
       "      <td>0</td>\n",
       "      <td>0</td>\n",
       "      <td>1</td>\n",
       "      <td>0</td>\n",
       "      <td>0</td>\n",
       "      <td>1</td>\n",
       "      <td>0</td>\n",
       "      <td>0</td>\n",
       "    </tr>\n",
       "    <tr>\n",
       "      <th>4</th>\n",
       "      <td>0</td>\n",
       "      <td>3</td>\n",
       "      <td>1.0</td>\n",
       "      <td>1</td>\n",
       "      <td>1</td>\n",
       "      <td>0</td>\n",
       "      <td>1</td>\n",
       "      <td>0</td>\n",
       "      <td>1</td>\n",
       "      <td>0</td>\n",
       "      <td>0</td>\n",
       "      <td>0</td>\n",
       "      <td>1</td>\n",
       "      <td>0</td>\n",
       "      <td>0</td>\n",
       "    </tr>\n",
       "  </tbody>\n",
       "</table>\n",
       "</div>"
      ],
      "text/plain": [
       "   Survived  Pclass  Age_Category  Fare_Category  FamilyMembers  female  male  \\\n",
       "0         0       3           1.0              0              2       0     1   \n",
       "1         1       3           1.0              1              1       1     0   \n",
       "2         1       1           2.0              4              2       1     0   \n",
       "3         0       3           2.0              1              1       0     1   \n",
       "4         0       3           1.0              1              1       0     1   \n",
       "\n",
       "   C  Q  S  Master  Miss  Mr  Mrs  Rare  \n",
       "0  0  0  1       0     0   1    0     0  \n",
       "1  0  0  1       0     1   0    0     0  \n",
       "2  0  0  1       0     0   0    1     0  \n",
       "3  0  0  1       0     0   1    0     0  \n",
       "4  0  1  0       0     0   1    0     0  "
      ]
     },
     "execution_count": 7,
     "metadata": {},
     "output_type": "execute_result"
    }
   ],
   "source": [
    "train.head()"
   ]
  },
  {
   "cell_type": "code",
   "execution_count": 9,
   "metadata": {},
   "outputs": [
    {
     "data": {
      "text/plain": [
       "<matplotlib.axes._subplots.AxesSubplot at 0x172b822ccc0>"
      ]
     },
     "execution_count": 9,
     "metadata": {},
     "output_type": "execute_result"
    },
    {
     "data": {
      "image/png": "[encoded data removed]",
      "text/plain": [
       "<Figure size 1080x576 with 2 Axes>"
      ]
     },
     "metadata": {
      "needs_background": "light"
     },
     "output_type": "display_data"
    }
   ],
   "source": [
    "plt.figure(figsize=(15, 8))\n",
    "sns.heatmap(train.corr())"
   ]
  },
  {
   "cell_type": "code",
   "execution_count": 31,
   "metadata": {},
   "outputs": [],
   "source": [
    "from sklearn.model_selection import train_test_split\n",
    "from sklearn.preprocessing import StandardScaler"
   ]
  },
  {
   "cell_type": "code",
   "execution_count": 34,
   "metadata": {},
   "outputs": [],
   "source": [
    "cols = list(train.columns)[1:]\n",
    "train_x = train.loc[:,cols]\n",
    "train_y = train.loc[:,'Survived']"
   ]
  },
  {
   "cell_type": "code",
   "execution_count": 37,
   "metadata": {},
   "outputs": [
    {
     "data": {
      "text/plain": [
       "((775, 14), (775,))"
      ]
     },
     "execution_count": 37,
     "metadata": {},
     "output_type": "execute_result"
    }
   ],
   "source": [
    "train_x.shape, train_y.shape"
   ]
  },
  {
   "cell_type": "markdown",
   "metadata": {},
   "source": [
    "### 1.1 Data Scaling & Splitting"
   ]
  },
  {
   "cell_type": "code",
   "execution_count": 38,
   "metadata": {},
   "outputs": [],
   "source": [
    "scaler = StandardScaler()\n",
    "scaled_train_x = scaler.fit_transform(train_x)"
   ]
  },
  {
   "cell_type": "code",
   "execution_count": 39,
   "metadata": {},
   "outputs": [
    {
     "data": {
      "text/plain": [
       "array([[ 0.70852824, -0.34474036, -1.41239702, ...,  0.78825054,\n",
       "        -0.37824311, -0.1542014 ],\n",
       "       [ 0.70852824, -0.34474036, -0.70437135, ..., -1.26863218,\n",
       "        -0.37824311, -0.1542014 ],\n",
       "       [-2.01658037,  0.64847072,  1.41970567, ..., -1.26863218,\n",
       "         2.64380232, -0.1542014 ],\n",
       "       ...,\n",
       "       [ 0.70852824, -0.34474036,  0.71168   , ..., -1.26863218,\n",
       "        -0.37824311, -0.1542014 ],\n",
       "       [-2.01658037, -0.34474036,  1.41970567, ...,  0.78825054,\n",
       "        -0.37824311, -0.1542014 ],\n",
       "       [ 0.70852824,  0.64847072, -1.41239702, ...,  0.78825054,\n",
       "        -0.37824311, -0.1542014 ]])"
      ]
     },
     "execution_count": 39,
     "metadata": {},
     "output_type": "execute_result"
    }
   ],
   "source": [
    "scaled_train_x"
   ]
  },
  {
   "cell_type": "code",
   "execution_count": 42,
   "metadata": {},
   "outputs": [],
   "source": [
    "train_set, test_set, train_label, test_label = train_test_split(scaled_train_x, train_y, test_size=0.1, shuffle=True)"
   ]
  },
  {
   "cell_type": "code",
   "execution_count": 44,
   "metadata": {},
   "outputs": [
    {
     "data": {
      "text/plain": [
       "((697, 14), (697,))"
      ]
     },
     "execution_count": 44,
     "metadata": {},
     "output_type": "execute_result"
    }
   ],
   "source": [
    "train_set.shape, train_label.shape"
   ]
  },
  {
   "cell_type": "code",
   "execution_count": 45,
   "metadata": {},
   "outputs": [
    {
     "data": {
      "text/plain": [
       "((78, 14), (78,))"
      ]
     },
     "execution_count": 45,
     "metadata": {},
     "output_type": "execute_result"
    }
   ],
   "source": [
    "test_set.shape, test_label.shape"
   ]
  },
  {
   "cell_type": "code",
   "execution_count": 53,
   "metadata": {},
   "outputs": [],
   "source": [
    "# Data Modeling\n",
    "from sklearn.linear_model import LogisticRegression\n",
    "from sklearn.tree import DecisionTreeClassifier\n",
    "from sklearn.ensemble import RandomForestClassifier,AdaBoostClassifier, BaggingClassifier, GradientBoostingClassifier\n",
    "from sklearn.svm import SVC\n",
    "from sklearn.metrics import accuracy_score, precision_score, recall_score"
   ]
  },
  {
   "cell_type": "markdown",
   "metadata": {},
   "source": [
    "### 1.2 Linear Regression"
   ]
  },
  {
   "cell_type": "code",
   "execution_count": 54,
   "metadata": {},
   "outputs": [],
   "source": [
    "lr_model = LogisticRegression()\n",
    "lr_model.fit(train_set, train_label)\n",
    "lr_predictions = lr_model.predict(test_set)"
   ]
  },
  {
   "cell_type": "code",
   "execution_count": 67,
   "metadata": {},
   "outputs": [
    {
     "name": "stdout",
     "output_type": "stream",
     "text": [
      "Linar Regression Precision:  0.7564102564102564\n",
      "Linar Regression Recall:  0.6538461538461539\n",
      "Linar Regression Accuracy:  0.7564102564102564\n"
     ]
    }
   ],
   "source": [
    "# accuracy, precision & recall for Linear Regreesion\n",
    "lr_precision = precision_score(test_label, lr_predictions, average='micro')\n",
    "lr_recall = recall_score(test_label, lr_predictions, average='binary')\n",
    "lr_accuracy = accuracy_score(test_label, lr_predictions)\n",
    "print(\"Linar Regression Precision: \",lr_precision)\n",
    "print(\"Linar Regression Recall: \",lr_recall)\n",
    "print(\"Linar Regression Accuracy: \",lr_accuracy)"
   ]
  },
  {
   "cell_type": "markdown",
   "metadata": {},
   "source": [
    "### 1.3 Decision Tree"
   ]
  },
  {
   "cell_type": "code",
   "execution_count": 62,
   "metadata": {},
   "outputs": [],
   "source": [
    "dt_model = DecisionTreeClassifier()\n",
    "dt_model.fit(train_set, train_label)\n",
    "dt_predictions = dt_model.predict(test_set)"
   ]
  },
  {
   "cell_type": "code",
   "execution_count": 69,
   "metadata": {},
   "outputs": [
    {
     "name": "stdout",
     "output_type": "stream",
     "text": [
      "Decision Tree Precision:  0.782051282051282\n",
      "Decision Tree Recall:  0.6153846153846154\n",
      "Decision Tree Accuracy:  0.782051282051282\n"
     ]
    }
   ],
   "source": [
    "# accuracy, precision & recall for Decision Tree\n",
    "dt_precision = precision_score(test_label, dt_predictions, average='micro')\n",
    "dt_recall = recall_score(test_label, dt_predictions, average='binary')\n",
    "dt_accuracy = accuracy_score(test_label, dt_predictions)\n",
    "print(\"Decision Tree Precision: \",dt_precision)\n",
    "print(\"Decision Tree Recall: \",dt_recall)\n",
    "print(\"Decision Tree Accuracy: \",dt_accuracy)"
   ]
  },
  {
   "cell_type": "markdown",
   "metadata": {},
   "source": [
    "### 1.4 Random Forest"
   ]
  },
  {
   "cell_type": "code",
   "execution_count": 76,
   "metadata": {},
   "outputs": [],
   "source": [
    "rf_model = RandomForestClassifier()\n",
    "rf_model.fit(train_set, train_label)\n",
    "rf_predictions = rf_model.predict(test_set)"
   ]
  },
  {
   "cell_type": "code",
   "execution_count": 82,
   "metadata": {},
   "outputs": [
    {
     "name": "stdout",
     "output_type": "stream",
     "text": [
      "Random Forest Precision:  0.7948717948717948\n",
      "Random Forest Recall:  0.6153846153846154\n",
      "Random Forest Accuracy:  0.7948717948717948\n"
     ]
    }
   ],
   "source": [
    "# accuracy, precision & recall for Random Forest\n",
    "rf_precision = precision_score(test_label, rf_predictions, average='micro')\n",
    "rf_recall = recall_score(test_label, rf_predictions, average='binary')\n",
    "rf_accuracy = accuracy_score(test_label, rf_predictions)\n",
    "print(\"Random Forest Precision: \",rf_precision)\n",
    "print(\"Random Forest Recall: \",rf_recall)\n",
    "print(\"Random Forest Accuracy: \",rf_accuracy)"
   ]
  },
  {
   "cell_type": "markdown",
   "metadata": {},
   "source": [
    "### 1.5 AdaBoost"
   ]
  },
  {
   "cell_type": "code",
   "execution_count": 79,
   "metadata": {},
   "outputs": [],
   "source": [
    "AdaBoost_model = AdaBoostClassifier()\n",
    "AdaBoost_model.fit(train_set, train_label)\n",
    "AdaBoost_predictions = AdaBoost_model.predict(test_set)"
   ]
  },
  {
   "cell_type": "code",
   "execution_count": 81,
   "metadata": {},
   "outputs": [
    {
     "name": "stdout",
     "output_type": "stream",
     "text": [
      "AdaBoost Precision:  0.7692307692307693\n",
      "AdaBoost Recall:  0.6153846153846154\n",
      "AdaBoost Accuracy:  0.7692307692307693\n"
     ]
    }
   ],
   "source": [
    "# accuracy, precision & recall for AdaBoost\n",
    "adaBoost_precision = precision_score(test_label, AdaBoost_predictions, average='micro')\n",
    "adaBoost_recall = recall_score(test_label, AdaBoost_predictions, average='binary')\n",
    "adaBoost_accuracy = accuracy_score(test_label, AdaBoost_predictions)\n",
    "print(\"AdaBoost Precision: \",adaBoost_precision)\n",
    "print(\"AdaBoost Recall: \",adaBoost_recall)\n",
    "print(\"AdaBoost Accuracy: \",adaBoost_accuracy)"
   ]
  },
  {
   "cell_type": "markdown",
   "metadata": {},
   "source": [
    "### 1.6 Gradient Boosting"
   ]
  },
  {
   "cell_type": "code",
   "execution_count": 85,
   "metadata": {},
   "outputs": [],
   "source": [
    "GB_model = GradientBoostingClassifier()\n",
    "GB_model.fit(train_set, train_label)\n",
    "GB_predictions = GB_model.predict(test_set)"
   ]
  },
  {
   "cell_type": "code",
   "execution_count": 86,
   "metadata": {},
   "outputs": [
    {
     "name": "stdout",
     "output_type": "stream",
     "text": [
      "Gradient Boosting Precision:  0.7564102564102564\n",
      "Gradient Boosting Recall:  0.5769230769230769\n",
      "Gradient Boosting Accuracy:  0.7564102564102564\n"
     ]
    }
   ],
   "source": [
    "# accuracy, precision & recall for Gradient Boosting\n",
    "gb_precision = precision_score(test_label, GB_predictions, average='micro')\n",
    "gb_recall = recall_score(test_label, GB_predictions, average='binary')\n",
    "gb_accuracy = accuracy_score(test_label, GB_predictions)\n",
    "print(\"Gradient Boosting Precision: \",gb_precision)\n",
    "print(\"Gradient Boosting Recall: \",gb_recall)\n",
    "print(\"Gradient Boosting Accuracy: \",gb_accuracy)"
   ]
  },
  {
   "cell_type": "markdown",
   "metadata": {},
   "source": [
    "### 1.7 Support Vector Machine"
   ]
  },
  {
   "cell_type": "code",
   "execution_count": 88,
   "metadata": {},
   "outputs": [],
   "source": [
    "svc_model = SVC()\n",
    "svc_model.fit(train_set, train_label)\n",
    "svc_predictions = svc_model.predict(test_set)"
   ]
  },
  {
   "cell_type": "code",
   "execution_count": 89,
   "metadata": {},
   "outputs": [
    {
     "name": "stdout",
     "output_type": "stream",
     "text": [
      "Support Vector Machine Precision:  0.8076923076923077\n",
      "Support Vector Machine Recall:  0.6538461538461539\n",
      "Support Vector Machine Accuracy:  0.8076923076923077\n"
     ]
    }
   ],
   "source": [
    "# accuracy, precision & recall for Support Vector Machine\n",
    "svc_precision = precision_score(test_label, svc_predictions, average='micro')\n",
    "svc_recall = recall_score(test_label, svc_predictions, average='binary')\n",
    "svc_accuracy = accuracy_score(test_label, svc_predictions)\n",
    "print(\"Support Vector Machine Precision: \",svc_precision)\n",
    "print(\"Support Vector Machine Recall: \",svc_recall)\n",
    "print(\"Support Vector Machine Accuracy: \",svc_accuracy)"
   ]
  },
  {
   "cell_type": "markdown",
   "metadata": {},
   "source": [
    "### 1.8 Bagging"
   ]
  },
  {
   "cell_type": "code",
   "execution_count": 90,
   "metadata": {},
   "outputs": [],
   "source": [
    "bag_model = BaggingClassifier()\n",
    "bag_model.fit(train_set, train_label)\n",
    "bag_predictions = bag_model.predict(test_set)"
   ]
  },
  {
   "cell_type": "code",
   "execution_count": 91,
   "metadata": {},
   "outputs": [
    {
     "name": "stdout",
     "output_type": "stream",
     "text": [
      "Bagging Classifier Precision:  0.7692307692307693\n",
      "Bagging Classifier Recall:  0.5769230769230769\n",
      "Bagging Classifier Accuracy:  0.7692307692307693\n"
     ]
    }
   ],
   "source": [
    "# accuracy, precision & recall for Bagging Classifier\n",
    "bag_precision = precision_score(test_label, bag_predictions, average='micro')\n",
    "bag_recall = recall_score(test_label, bag_predictions, average='binary')\n",
    "bag_accuracy = accuracy_score(test_label, bag_predictions)\n",
    "print(\"Bagging Classifier Precision: \",bag_precision)\n",
    "print(\"Bagging Classifier Recall: \",bag_recall)\n",
    "print(\"Bagging Classifier Accuracy: \",bag_accuracy)"
   ]
  },
  {
   "cell_type": "markdown",
   "metadata": {},
   "source": [
    "<p>Highest Recall achieved so far is 65% by <b>Linear Regression</b> & <b>Support Vector Machine</b>. The reason of not achieving good recall is the imbalance dataset. We will be handling this out in next steps.</p>"
   ]
  },
  {
   "cell_type": "code",
   "execution_count": null,
   "metadata": {},
   "outputs": [],
   "source": []
  }
 ],
 "metadata": {
  "kernelspec": {
   "display_name": "Python 3",
   "language": "python",
   "name": "python3"
  },
  "language_info": {
   "codemirror_mode": {
    "name": "ipython",
    "version": 3
   },
   "file_extension": ".py",
   "mimetype": "text/x-python",
   "name": "python",
   "nbconvert_exporter": "python",
   "pygments_lexer": "ipython3",
   "version": "3.6.10"
  }
 },
 "nbformat": 4,
 "nbformat_minor": 4
}
